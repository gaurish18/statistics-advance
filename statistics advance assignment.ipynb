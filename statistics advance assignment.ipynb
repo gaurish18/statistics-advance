{
 "cells": [
  {
   "cell_type": "code",
   "execution_count": 2,
   "id": "6d55baa1-5d1a-4e60-9d82-8c2c78abca8e",
   "metadata": {},
   "outputs": [],
   "source": [
    "import scipy.stats as stats"
   ]
  },
  {
   "cell_type": "code",
   "execution_count": 3,
   "id": "eaec449e-904c-4f3b-9669-95e97dd7a4b7",
   "metadata": {},
   "outputs": [],
   "source": [
    "# Given data\n",
    "mean = 50\n",
    "std_dev = 5\n",
    "confidence_level = 0.95\n",
    "sample_size = 30  #taken as 30"
   ]
  },
  {
   "cell_type": "code",
   "execution_count": 4,
   "id": "9fc9f012-2a0e-4b9b-8344-996b1a0a85a9",
   "metadata": {},
   "outputs": [],
   "source": [
    "# Calculate the standard error\n",
    "standard_error = std_dev / (sample_size**0.5)"
   ]
  },
  {
   "cell_type": "code",
   "execution_count": 5,
   "id": "71ec62ca-eb57-4a67-8ef8-472e97ca188c",
   "metadata": {},
   "outputs": [],
   "source": [
    "# Calculate the margin of error\n",
    "margin_of_error = stats.norm.ppf((1 + confidence_level) / 2) * standard_error\n"
   ]
  },
  {
   "cell_type": "code",
   "execution_count": 6,
   "id": "b02d0182-031b-4110-bc70-938cfc421eb7",
   "metadata": {},
   "outputs": [],
   "source": [
    "# Calculate the confidence interval\n",
    "lower_bound = mean - margin_of_error\n",
    "upper_bound = mean + margin_of_error\n"
   ]
  },
  {
   "cell_type": "code",
   "execution_count": 7,
   "id": "33768f01-442e-4d8f-8d5f-b8922387ff84",
   "metadata": {},
   "outputs": [
    {
     "name": "stdout",
     "output_type": "stream",
     "text": [
      "Confidence Interval: (48.210805856282846, 51.789194143717154)\n"
     ]
    }
   ],
   "source": [
    "# Print the results\n",
    "print(f\"Confidence Interval: ({lower_bound}, {upper_bound})\")"
   ]
  },
  {
   "cell_type": "code",
   "execution_count": null,
   "id": "c942151c-65ce-493b-80b4-eeb7ea3e39de",
   "metadata": {},
   "outputs": [],
   "source": []
  },
  {
   "cell_type": "code",
   "execution_count": 8,
   "id": "28644379-d1f9-49b5-a426-53dbd31fa91d",
   "metadata": {},
   "outputs": [
    {
     "name": "stdout",
     "output_type": "stream",
     "text": [
      "Chi-square Statistic: 5.909090909090908\n",
      "P-value: 0.31516553465806285\n",
      "Significance Level: 0.05\n",
      "Fail to reject the null hypothesis. The distribution of M&Ms colors matches the expected distribution.\n"
     ]
    }
   ],
   "source": [
    "import numpy as np\n",
    "from scipy.stats import chisquare\n",
    "\n",
    "# Observed frequencies of colors in the M&Ms bag\n",
    "observed_frequencies = np.array([25, 15, 30, 10, 10, 20])  # Adjust these values based on your actual observations\n",
    "\n",
    "# Expected frequencies based on the given distribution\n",
    "expected_frequencies = np.array([0.2, 0.2, 0.2, 0.1, 0.1, 0.2]) * np.sum(observed_frequencies)\n",
    "\n",
    "# Perform the chi-square goodness of fit test\n",
    "chi2_stat, p_value = chisquare(observed_frequencies, f_exp=expected_frequencies)\n",
    "\n",
    "# Print the results\n",
    "print(f\"Chi-square Statistic: {chi2_stat}\")\n",
    "print(f\"P-value: {p_value}\")\n",
    "\n",
    "# Check the significance level\n",
    "alpha = 0.05\n",
    "print(f\"Significance Level: {alpha}\")\n",
    "\n",
    "# Compare the p-value to the significance level\n",
    "if p_value < alpha:\n",
    "    print(\"Reject the null hypothesis. The distribution of M&Ms colors is different from the expected distribution.\")\n",
    "else:\n",
    "    print(\"Fail to reject the null hypothesis. The distribution of M&Ms colors matches the expected distribution.\")\n"
   ]
  },
  {
   "cell_type": "code",
   "execution_count": null,
   "id": "31960356-ec74-4001-af36-50d5d7800782",
   "metadata": {},
   "outputs": [],
   "source": []
  },
  {
   "cell_type": "code",
   "execution_count": 9,
   "id": "d6802f79-80e3-4271-b803-6eaaa638d8b4",
   "metadata": {},
   "outputs": [
    {
     "name": "stdout",
     "output_type": "stream",
     "text": [
      "Chi-square Statistic: 5.833333333333334\n",
      "P-value: 0.05411376622282158\n",
      "Degrees of Freedom: 2\n",
      "Expected Frequencies:\n",
      "[[15. 20.]\n",
      " [15. 20.]\n",
      " [15. 20.]]\n",
      "Significance Level: 0.05\n",
      "Fail to reject the null hypothesis. There is no significant association between the groups and outcomes.\n"
     ]
    }
   ],
   "source": [
    "import numpy as np\n",
    "from scipy.stats import chi2_contingency\n",
    "\n",
    "# Given data\n",
    "observed_data = np.array([[20, 15], [10, 25], [15, 20]])\n",
    "\n",
    "# Perform the chi-square test for independence\n",
    "chi2_stat, p_value, dof, expected = chi2_contingency(observed_data)\n",
    "\n",
    "# Print the results\n",
    "print(f\"Chi-square Statistic: {chi2_stat}\")\n",
    "print(f\"P-value: {p_value}\")\n",
    "print(f\"Degrees of Freedom: {dof}\")\n",
    "print(\"Expected Frequencies:\")\n",
    "print(expected)\n",
    "\n",
    "# Check the significance level\n",
    "alpha = 0.05\n",
    "print(f\"Significance Level: {alpha}\")\n",
    "\n",
    "# Compare the p-value to the significance level\n",
    "if p_value < alpha:\n",
    "    print(\"Reject the null hypothesis. There is a significant association between the groups and outcomes.\")\n",
    "else:\n",
    "    print(\"Fail to reject the null hypothesis. There is no significant association between the groups and outcomes.\")\n"
   ]
  },
  {
   "cell_type": "code",
   "execution_count": null,
   "id": "2b43e34c-c45c-4f34-8bb2-d952c0fac34a",
   "metadata": {},
   "outputs": [],
   "source": []
  },
  {
   "cell_type": "code",
   "execution_count": 10,
   "id": "a4e6a47f-b8f3-4e52-a993-6e00c4b9ffe0",
   "metadata": {},
   "outputs": [
    {
     "name": "stdout",
     "output_type": "stream",
     "text": [
      "Sample Proportion: 0.12\n",
      "Margin of Error: 0.028483611128692923\n",
      "Confidence Interval: (0.09151638887130707, 0.1484836111286929)\n"
     ]
    }
   ],
   "source": [
    "import numpy as np\n",
    "from scipy.stats import norm\n",
    "\n",
    "# Given data\n",
    "population_size = 500\n",
    "smokers = 60\n",
    "\n",
    "# Calculate the sample proportion\n",
    "sample_proportion = smokers / population_size\n",
    "\n",
    "# Calculate the standard error\n",
    "standard_error = np.sqrt((sample_proportion * (1 - sample_proportion)) / population_size)\n",
    "\n",
    "# Set the confidence level and calculate the margin of error\n",
    "confidence_level = 0.95\n",
    "z_score = norm.ppf((1 + confidence_level) / 2)\n",
    "margin_of_error = z_score * standard_error\n",
    "\n",
    "# Calculate the confidence interval\n",
    "lower_bound = sample_proportion - margin_of_error\n",
    "upper_bound = sample_proportion + margin_of_error\n",
    "\n",
    "# Print the results\n",
    "print(f\"Sample Proportion: {sample_proportion}\")\n",
    "print(f\"Margin of Error: {margin_of_error}\")\n",
    "print(f\"Confidence Interval: ({lower_bound}, {upper_bound})\")\n"
   ]
  },
  {
   "cell_type": "code",
   "execution_count": null,
   "id": "89e89662-3790-4e3b-adc5-a46670e97548",
   "metadata": {},
   "outputs": [],
   "source": []
  },
  {
   "cell_type": "code",
   "execution_count": 11,
   "id": "c0d62ccb-1db7-41bb-a510-0ad68c458bcd",
   "metadata": {},
   "outputs": [
    {
     "name": "stdout",
     "output_type": "stream",
     "text": [
      "Confidence Interval: (71.39630625889797, 78.60369374110203)\n"
     ]
    }
   ],
   "source": [
    "import scipy.stats as stats\n",
    "\n",
    "# Given data\n",
    "mean = 75\n",
    "std_dev = 12\n",
    "confidence_level = 0.90\n",
    "sample_size = 30  # You would replace this with your actual sample size\n",
    "\n",
    "# Calculate the standard error\n",
    "standard_error = std_dev / (sample_size**0.5)\n",
    "\n",
    "# Calculate the margin of error\n",
    "margin_of_error = stats.norm.ppf((1 + confidence_level) / 2) * standard_error\n",
    "\n",
    "# Calculate the confidence interval\n",
    "lower_bound = mean - margin_of_error\n",
    "upper_bound = mean + margin_of_error\n",
    "\n",
    "# Print the results\n",
    "print(f\"Confidence Interval: ({lower_bound}, {upper_bound})\")\n"
   ]
  },
  {
   "cell_type": "code",
   "execution_count": null,
   "id": "5ae36c1e-b84f-42c6-8e2c-7eb9da103ca9",
   "metadata": {},
   "outputs": [],
   "source": []
  },
  {
   "cell_type": "code",
   "execution_count": 13,
   "id": "d210bead-0b39-41fc-9dcb-4cd905ff8c11",
   "metadata": {},
   "outputs": [
    {
     "data": {
      "image/png": "[encoded data removed]",
      "text/plain": [
       "<Figure size 640x480 with 1 Axes>"
      ]
     },
     "metadata": {},
     "output_type": "display_data"
    }
   ],
   "source": [
    "\n",
    "import matplotlib.pyplot as plt\n",
    "\n",
    "\n",
    "# Degrees of freedom\n",
    "df = 10\n",
    "\n",
    "# Create a range of chi-square values\n",
    "x = np.linspace(0, 30, 1000)\n",
    "\n",
    "# Plot the chi-square distribution\n",
    "plt.plot(x, stats.chi2.pdf(x, df), label=f'Chi-square Distribution (df={df})')\n",
    "\n",
    "# Shade the area corresponding to a chi-square statistic of 15\n",
    "x_shaded = np.linspace(0, 15, 100)\n",
    "plt.fill_between(x_shaded, stats.chi2.pdf(x_shaded, df), color='red', alpha=0.5, label='Chi-square Statistic = 15')\n",
    "\n",
    "# Label the axes and add a legend\n",
    "plt.xlabel('Chi-square Value')\n",
    "plt.ylabel('Probability Density Function')\n",
    "plt.title('Chi-square Distribution')\n",
    "plt.legend()\n",
    "\n",
    "# Show the plot\n",
    "plt.show()\n"
   ]
  },
  {
   "cell_type": "code",
   "execution_count": null,
   "id": "a0874eea-bfea-43a2-a281-2eaea01450c9",
   "metadata": {},
   "outputs": [],
   "source": []
  },
  {
   "cell_type": "code",
   "execution_count": 14,
   "id": "c8332673-6987-4a6c-b1b9-e90ecabdf17a",
   "metadata": {},
   "outputs": [
    {
     "name": "stdout",
     "output_type": "stream",
     "text": [
      "Sample Proportion: 0.52\n",
      "Margin of Error: 0.040694842322030134\n",
      "99% Confidence Interval: (0.4793051576779699, 0.5606948423220302)\n"
     ]
    }
   ],
   "source": [
    "import numpy as np\n",
    "from scipy.stats import norm\n",
    "\n",
    "# Given data\n",
    "sample_size = 1000\n",
    "coke_preferred = 520\n",
    "\n",
    "# Calculate the sample proportion\n",
    "sample_proportion = coke_preferred / sample_size\n",
    "\n",
    "# Calculate the standard error\n",
    "standard_error = np.sqrt((sample_proportion * (1 - sample_proportion)) / sample_size)\n",
    "\n",
    "# Set the confidence level and calculate the margin of error\n",
    "confidence_level = 0.99\n",
    "z_score = norm.ppf((1 + confidence_level) / 2)\n",
    "margin_of_error = z_score * standard_error\n",
    "\n",
    "# Calculate the confidence interval\n",
    "lower_bound = sample_proportion - margin_of_error\n",
    "upper_bound = sample_proportion + margin_of_error\n",
    "\n",
    "# Print the results\n",
    "print(f\"Sample Proportion: {sample_proportion}\")\n",
    "print(f\"Margin of Error: {margin_of_error}\")\n",
    "print(f\"99% Confidence Interval: ({lower_bound}, {upper_bound})\")\n"
   ]
  },
  {
   "cell_type": "code",
   "execution_count": null,
   "id": "e52e46f2-0664-4b72-8a69-e05a6d84fa32",
   "metadata": {},
   "outputs": [],
   "source": []
  },
  {
   "cell_type": "code",
   "execution_count": 16,
   "id": "4721b25b-b6ba-4f92-8d95-c62a5a94481f",
   "metadata": {},
   "outputs": [],
   "source": [
    "import numpy as np\n",
    "from scipy.stats import chisquare"
   ]
  },
  {
   "cell_type": "code",
   "execution_count": 17,
   "id": "d91e7115-7ed5-4b68-85ad-ec80b32ad22e",
   "metadata": {},
   "outputs": [],
   "source": [
    "# Given data\n",
    "observed_tails = 45\n",
    "total_flips = 100\n"
   ]
  },
  {
   "cell_type": "code",
   "execution_count": 18,
   "id": "0d68302f-aa53-4001-b4b7-eae07565f6b7",
   "metadata": {},
   "outputs": [],
   "source": [
    "# Expected frequencies for a fair coin\n",
    "expected_heads = (total_flips - observed_tails) / 2\n",
    "expected_tails = (total_flips - observed_tails) / 2\n",
    "\n",
    "observed_frequencies = np.array([observed_tails, total_flips - observed_tails])\n",
    "expected_frequencies = np.array([expected_tails, expected_heads])"
   ]
  },
  {
   "cell_type": "code",
   "execution_count": 21,
   "id": "8dff8c26-d131-4bf1-9a38-c3669ee700c3",
   "metadata": {},
   "outputs": [
    {
     "name": "stdout",
     "output_type": "stream",
     "text": [
      "Chi-square Statistic: 5.833333333333334\n",
      "P-value: 0.05411376622282158\n",
      "Significance Level: 0.05\n",
      "Fail to reject the null hypothesis. There is no significant evidence that the coin is biased towards tails.\n"
     ]
    }
   ],
   "source": [
    "\n",
    "\n",
    "# Print the results\n",
    "print(f\"Chi-square Statistic: {chi2_stat}\")\n",
    "print(f\"P-value: {p_value}\")\n",
    "\n",
    "# Check the significance level\n",
    "alpha = 0.05\n",
    "print(f\"Significance Level: {alpha}\")\n",
    "\n",
    "# Compare the p-value to the significance level\n",
    "if p_value < alpha:\n",
    "    print(\"Reject the null hypothesis. The coin may be biased towards tails.\")\n",
    "else:\n",
    "    print(\"Fail to reject the null hypothesis. There is no significant evidence that the coin is biased towards tails.\")"
   ]
  },
  {
   "cell_type": "code",
   "execution_count": null,
   "id": "909d21bc-e3f1-40d1-9255-90e6e03333bd",
   "metadata": {},
   "outputs": [],
   "source": []
  },
  {
   "cell_type": "code",
   "execution_count": 22,
   "id": "54825984-8836-4005-8b01-59822feafcc4",
   "metadata": {},
   "outputs": [
    {
     "name": "stdout",
     "output_type": "stream",
     "text": [
      "Chi-square Statistic: 12.057347670250895\n",
      "P-value: 0.0005158863863703744\n",
      "Degrees of Freedom: 1\n",
      "Expected Frequencies:\n",
      "[[ 45. 155.]\n",
      " [ 45. 155.]]\n",
      "Significance Level: 0.05\n",
      "Reject the null hypothesis. There is a significant association between smoking status and lung cancer diagnosis.\n"
     ]
    }
   ],
   "source": [
    "import numpy as np\n",
    "from scipy.stats import chi2_contingency\n",
    "\n",
    "# Given data\n",
    "observed_data = np.array([[60, 140], [30, 170]])\n",
    "\n",
    "# Perform the chi-square test for independence\n",
    "chi2_stat, p_value, dof, expected = chi2_contingency(observed_data)\n",
    "\n",
    "# Print the results\n",
    "print(f\"Chi-square Statistic: {chi2_stat}\")\n",
    "print(f\"P-value: {p_value}\")\n",
    "print(f\"Degrees of Freedom: {dof}\")\n",
    "print(\"Expected Frequencies:\")\n",
    "print(expected)\n",
    "\n",
    "# Check the significance level\n",
    "alpha = 0.05\n",
    "print(f\"Significance Level: {alpha}\")\n",
    "\n",
    "# Compare the p-value to the significance level\n",
    "if p_value < alpha:\n",
    "    print(\"Reject the null hypothesis. There is a significant association between smoking status and lung cancer diagnosis.\")\n",
    "else:\n",
    "    print(\"Fail to reject the null hypothesis. There is no significant association between smoking status and lung cancer diagnosis.\")\n"
   ]
  },
  {
   "cell_type": "code",
   "execution_count": null,
   "id": "035ed280-b192-4d08-9df0-539b3c6c2954",
   "metadata": {},
   "outputs": [],
   "source": []
  },
  {
   "cell_type": "code",
   "execution_count": 23,
   "id": "01951bdd-df3d-48a1-9848-7375a057843d",
   "metadata": {},
   "outputs": [
    {
     "name": "stdout",
     "output_type": "stream",
     "text": [
      "Chi-square Statistic: 13.393665158371041\n",
      "P-value: 0.0012348168997745918\n",
      "Degrees of Freedom: 2\n",
      "Expected Frequencies:\n",
      "[[212.5 162.5 125. ]\n",
      " [212.5 162.5 125. ]]\n",
      "Significance Level: 0.01\n",
      "Reject the null hypothesis. There is a significant association between chocolate preference and country of origin.\n"
     ]
    }
   ],
   "source": [
    "import numpy as np\n",
    "from scipy.stats import chi2_contingency\n",
    "\n",
    "# Given data\n",
    "observed_data = np.array([[200, 150, 150], [225, 175, 100]])\n",
    "\n",
    "# Perform the chi-square test for independence\n",
    "chi2_stat, p_value, dof, expected = chi2_contingency(observed_data)\n",
    "\n",
    "# Print the results\n",
    "print(f\"Chi-square Statistic: {chi2_stat}\")\n",
    "print(f\"P-value: {p_value}\")\n",
    "print(f\"Degrees of Freedom: {dof}\")\n",
    "print(\"Expected Frequencies:\")\n",
    "print(expected)\n",
    "\n",
    "# Check the significance level\n",
    "alpha = 0.01\n",
    "print(f\"Significance Level: {alpha}\")\n",
    "\n",
    "# Compare the p-value to the significance level\n",
    "if p_value < alpha:\n",
    "    print(\"Reject the null hypothesis. There is a significant association between chocolate preference and country of origin.\")\n",
    "else:\n",
    "    print(\"Fail to reject the null hypothesis. There is no significant association between chocolate preference and country of origin.\")\n"
   ]
  },
  {
   "cell_type": "code",
   "execution_count": null,
   "id": "0546cc62-b6c6-4bb6-b9b3-339268e41a7f",
   "metadata": {},
   "outputs": [],
   "source": []
  },
  {
   "cell_type": "code",
   "execution_count": null,
   "id": "ef33305f-5882-4923-826a-a5892d8d235f",
   "metadata": {},
   "outputs": [],
   "source": []
  }
 ],
 "metadata": {
  "kernelspec": {
   "display_name": "Python 3 (ipykernel)",
   "language": "python",
   "name": "python3"
  },
  "language_info": {
   "codemirror_mode": {
    "name": "ipython",
    "version": 3
   },
   "file_extension": ".py",
   "mimetype": "text/x-python",
   "name": "python",
   "nbconvert_exporter": "python",
   "pygments_lexer": "ipython3",
   "version": "3.10.8"
  }
 },
 "nbformat": 4,
 "nbformat_minor": 5
}
